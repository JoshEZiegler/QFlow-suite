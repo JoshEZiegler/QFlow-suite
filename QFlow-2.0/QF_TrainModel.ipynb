{
 "cells": [
  {
   "cell_type": "markdown",
   "metadata": {
    "toc": true
   },
   "source": [
    "<h1>Table of Contents<span class=\"tocSkip\"></span></h1>\n",
    "<div class=\"toc\"><ul class=\"toc-item\"><li><span><a href=\"#Make-subimages-from-full-maps\" data-toc-modified-id=\"Make-subimages-from-full-maps-1\"><span class=\"toc-item-num\">1&nbsp;&nbsp;</span>Make subimages from full maps</a></span></li><li><span><a href=\"#Load-subimages-and-split-into-features-and-labels\" data-toc-modified-id=\"Load-subimages-and-split-into-features-and-labels-2\"><span class=\"toc-item-num\">2&nbsp;&nbsp;</span>Load subimages and split into features and labels</a></span></li><li><span><a href=\"#Preprocess--subimages-pre-training\" data-toc-modified-id=\"Preprocess--subimages-pre-training-3\"><span class=\"toc-item-num\">3&nbsp;&nbsp;</span>Preprocess  subimages pre training</a></span></li><li><span><a href=\"#Make-dataset,-model-and-train\" data-toc-modified-id=\"Make-dataset,-model-and-train-4\"><span class=\"toc-item-num\">4&nbsp;&nbsp;</span>Make dataset, model and train</a></span></li><li><span><a href=\"#Evaluate-data-on-experimental-dataset\" data-toc-modified-id=\"Evaluate-data-on-experimental-dataset-5\"><span class=\"toc-item-num\">5&nbsp;&nbsp;</span>Evaluate data on experimental dataset</a></span></li></ul></div>"
   ]
  },
  {
   "cell_type": "code",
   "execution_count": 15,
   "metadata": {
    "ExecuteTime": {
     "end_time": "2021-08-24T18:52:03.910414Z",
     "start_time": "2021-08-24T18:52:03.904000Z"
    }
   },
   "outputs": [
    {
     "data": {
      "text/plain": [
       "<module 'QFlow' from '/Users/jz/pythonprojects/data_release_repo/QFlow/__init__.py'>"
      ]
     },
     "execution_count": 15,
     "metadata": {},
     "output_type": "execute_result"
    }
   ],
   "source": [
    "import sys, os,imp, glob\n",
    "import numpy as np\n",
    "import matplotlib.pyplot as plt\n",
    "import seaborn as sns\n",
    "sns.set_style('ticks')\n",
    "\n",
    "module_path = os.path.abspath(os.path.join('.'))\n",
    "if module_path not in sys.path:\n",
    "    sys.path.append(module_path)\n",
    "\n",
    "import QFlow as QF\n",
    "imp.reload(QF)"
   ]
  },
  {
   "cell_type": "markdown",
   "metadata": {},
   "source": [
    "# Make subimages from full maps"
   ]
  },
  {
   "cell_type": "code",
   "execution_count": 2,
   "metadata": {
    "ExecuteTime": {
     "end_time": "2021-08-24T18:49:11.791957Z",
     "start_time": "2021-08-24T18:47:34.245374Z"
    }
   },
   "outputs": [
    {
     "name": "stdout",
     "output_type": "stream",
     "text": [
      "15990\n"
     ]
    }
   ],
   "source": [
    "raw_dat_file = os.path.join('..','QFlow-2.0','Data','bn_noCP_1.5m_0.5std.hdf5')\n",
    "\n",
    "cropper = QF.Crop_Data.DataCropper(excl_range=20)\n",
    "\n",
    "cropped_data = cropper.crop_full_dataset(\n",
    "    raw_dat_file, save_data=True, return_data=False)"
   ]
  },
  {
   "cell_type": "markdown",
   "metadata": {},
   "source": [
    "# Load subimages and split into features and labels\n",
    "Note that the features at this stage are fully unprocessed."
   ]
  },
  {
   "cell_type": "code",
   "execution_count": 3,
   "metadata": {
    "ExecuteTime": {
     "end_time": "2021-08-24T18:49:25.756274Z",
     "start_time": "2021-08-24T18:49:11.794002Z"
    }
   },
   "outputs": [
    {
     "name": "stdout",
     "output_type": "stream",
     "text": [
      "Total number of samples : 15990\n",
      "Training data info: (14391, 30, 30, 1)\n",
      "Evaluation data info: (1599, 30, 30, 1)\n"
     ]
    }
   ],
   "source": [
    "subs_file = os.path.join('..','QFlow-2.0', 'Data','bn_noCP_1.5m_0.5std.npz')\n",
    "\n",
    "# Specify here what type of label we want. Options are 'state' or 'data_quality'.\n",
    "# This has to match the type of model created by Prepare_ML.create_model()\n",
    "t_data, t_labels, e_data, e_labels = QF.Process_Data.get_data(\n",
    "    subs_file, label_key='state')"
   ]
  },
  {
   "cell_type": "code",
   "execution_count": 4,
   "metadata": {
    "ExecuteTime": {
     "end_time": "2021-08-24T18:49:25.985026Z",
     "start_time": "2021-08-24T18:49:25.758292Z"
    }
   },
   "outputs": [
    {
     "data": {
      "image/png": "[encoded data removed]",
      "text/plain": [
       "<Figure size 432x288 with 2 Axes>"
      ]
     },
     "metadata": {},
     "output_type": "display_data"
    }
   ],
   "source": [
    "# plot subimage to make sure everything looks ok\n",
    "plt.pcolor(t_data[0,:,:,0])\n",
    "ax = plt.gca()\n",
    "ax.set_aspect('equal')\n",
    "plt.colorbar()\n",
    "plt.show()"
   ]
  },
  {
   "cell_type": "markdown",
   "metadata": {},
   "source": [
    "# Preprocess  subimages pre training"
   ]
  },
  {
   "cell_type": "code",
   "execution_count": 5,
   "metadata": {
    "ExecuteTime": {
     "end_time": "2021-08-24T18:49:26.961490Z",
     "start_time": "2021-08-24T18:49:25.986721Z"
    }
   },
   "outputs": [],
   "source": [
    "# Don't autoflip because our simulated data has fixed orientation.\n",
    "# Don't apply denoising because it doesn't help.\n",
    "prepper = QF.Process_Data.Preprocessor(\n",
    "    autoflip=False, denoising=[], clip_val=None, thresh_val=None)\n",
    "\n",
    "# preprocess training and eval data\n",
    "proc_t_data = prepper.proc_subimage_set(t_data)\n",
    "proc_e_data = prepper.proc_subimage_set(e_data)"
   ]
  },
  {
   "cell_type": "code",
   "execution_count": 6,
   "metadata": {
    "ExecuteTime": {
     "end_time": "2021-08-24T18:49:27.170727Z",
     "start_time": "2021-08-24T18:49:26.963014Z"
    }
   },
   "outputs": [
    {
     "data": {
      "image/png": "[encoded data removed]",
      "text/plain": [
       "<Figure size 432x288 with 2 Axes>"
      ]
     },
     "metadata": {},
     "output_type": "display_data"
    }
   ],
   "source": [
    "# plot processed subimage to make sure everything looks ok\n",
    "test_idx = 0\n",
    "plt.pcolor(proc_t_data[test_idx,:,:,0])\n",
    "ax = plt.gca()\n",
    "ax.set_aspect('equal')\n",
    "plt.title('label:'+str(t_labels[test_idx]))\n",
    "plt.colorbar()\n",
    "plt.show()"
   ]
  },
  {
   "cell_type": "markdown",
   "metadata": {},
   "source": [
    "# Make dataset, model and train "
   ]
  },
  {
   "cell_type": "code",
   "execution_count": 7,
   "metadata": {
    "ExecuteTime": {
     "end_time": "2021-08-24T18:49:27.180394Z",
     "start_time": "2021-08-24T18:49:27.172381Z"
    }
   },
   "outputs": [],
   "source": [
    "train_ds = QF.Prepare_ML.input_fn(proc_t_data, t_labels)\n",
    "eval_ds = QF.Prepare_ML.input_fn(proc_e_data, e_labels)"
   ]
  },
  {
   "cell_type": "code",
   "execution_count": 8,
   "metadata": {
    "ExecuteTime": {
     "end_time": "2021-08-24T18:50:03.164408Z",
     "start_time": "2021-08-24T18:49:27.182977Z"
    }
   },
   "outputs": [
    {
     "name": "stdout",
     "output_type": "stream",
     "text": [
      "Epoch 1/10\n",
      "137/137 [==============================] - 5s 29ms/step - loss: 1.5087 - accuracy: 0.2840 - val_loss: 0.9421 - val_accuracy: 0.6188\n",
      "Epoch 2/10\n",
      "137/137 [==============================] - 3s 25ms/step - loss: 0.9572 - accuracy: 0.6102 - val_loss: 0.7621 - val_accuracy: 0.7282\n",
      "Epoch 3/10\n",
      "137/137 [==============================] - 3s 25ms/step - loss: 0.8157 - accuracy: 0.6864 - val_loss: 0.7436 - val_accuracy: 0.7271\n",
      "Epoch 4/10\n",
      "137/137 [==============================] - 3s 25ms/step - loss: 0.7406 - accuracy: 0.7411 - val_loss: 0.6799 - val_accuracy: 0.7823\n",
      "Epoch 5/10\n",
      "137/137 [==============================] - 3s 24ms/step - loss: 0.7020 - accuracy: 0.7631 - val_loss: 0.6637 - val_accuracy: 0.7901\n",
      "Epoch 6/10\n",
      "137/137 [==============================] - 3s 25ms/step - loss: 0.6836 - accuracy: 0.7750 - val_loss: 0.6308 - val_accuracy: 0.8044\n",
      "Epoch 7/10\n",
      "137/137 [==============================] - 3s 25ms/step - loss: 0.6583 - accuracy: 0.7906 - val_loss: 0.6468 - val_accuracy: 0.7923\n",
      "Epoch 8/10\n",
      "137/137 [==============================] - 3s 25ms/step - loss: 0.6595 - accuracy: 0.7888 - val_loss: 0.6240 - val_accuracy: 0.8177\n",
      "Epoch 9/10\n",
      "137/137 [==============================] - 3s 25ms/step - loss: 0.6426 - accuracy: 0.7987 - val_loss: 0.6164 - val_accuracy: 0.8144\n",
      "Epoch 10/10\n",
      "137/137 [==============================] - 3s 25ms/step - loss: 0.6301 - accuracy: 0.8052 - val_loss: 0.6360 - val_accuracy: 0.8199\n"
     ]
    }
   ],
   "source": [
    "# create and train model for either state estimation or quality control.\n",
    "# valid model_types are: 'state_estimator' or 'quality_control'\n",
    "# for 'state_estimator', valid model_opts are 'best_noise_opt' or 'noiseless_opt'\n",
    "# for 'quality_control', valid model_opts are 'uniform_noise_dist_opt'\n",
    "model = QF.Prepare_ML.create_model(\n",
    "    model_type='state_estimator', model_opt='noiseless_opt')\n",
    "\n",
    "history = model.fit(train_ds, validation_data=eval_ds, epochs=10)"
   ]
  },
  {
   "cell_type": "code",
   "execution_count": 9,
   "metadata": {
    "ExecuteTime": {
     "end_time": "2021-08-24T18:50:03.309880Z",
     "start_time": "2021-08-24T18:50:03.166052Z"
    }
   },
   "outputs": [
    {
     "data": {
      "image/png": "[encoded data removed]",
      "text/plain": [
       "<Figure size 432x288 with 1 Axes>"
      ]
     },
     "metadata": {},
     "output_type": "display_data"
    }
   ],
   "source": [
    "# check that training converged nicely\n",
    "plt.plot(history.history['accuracy'], label='acc')\n",
    "plt.plot(history.history['val_accuracy'], label='eval_acc')\n",
    "plt.xlabel('Epochs')\n",
    "plt.ylabel('Accuracy')\n",
    "plt.legend()\n",
    "plt.show()"
   ]
  },
  {
   "cell_type": "markdown",
   "metadata": {},
   "source": [
    "# Evaluate data on experimental dataset"
   ]
  },
  {
   "cell_type": "code",
   "execution_count": 32,
   "metadata": {
    "ExecuteTime": {
     "end_time": "2021-08-24T18:55:29.294707Z",
     "start_time": "2021-08-24T18:55:28.312579Z"
    }
   },
   "outputs": [],
   "source": [
    "# load data\n",
    "data_files = glob.glob(os.path.join('..','exp_data_release','*','*.npy'))\n",
    "\n",
    "# extract only what we need from the data.\n",
    "# note that there is no noise_class label for experimental data\n",
    "exp_data = []; exp_labels = []\n",
    "for f in data_files:\n",
    "    d = np.load(f, allow_pickle=True).item()\n",
    "    exp_data.append(d['sensor'])\n",
    "    exp_labels.append(d['label'])\n",
    "\n",
    "# convert only labels to list because exp_data contains different shaped data.\n",
    "exp_labels = np.array(exp_labels)\n",
    "\n",
    "# preprocess\n",
    "# Autoflip because sensor gradient sign is unknown. \n",
    "# Don't denoise because it doesn't help.\n",
    "exp_prepper = QF.Process_Data.Preprocessor(\n",
    "    autoflip=True, denoising=[], clip_val=None, thresh_val=None)\n",
    "\n",
    "proc_exp_data = exp_prepper.proc_subimage_set(exp_data)"
   ]
  },
  {
   "cell_type": "code",
   "execution_count": 34,
   "metadata": {
    "ExecuteTime": {
     "end_time": "2021-08-24T18:55:30.734375Z",
     "start_time": "2021-08-24T18:55:30.415420Z"
    }
   },
   "outputs": [
    {
     "name": "stdout",
     "output_type": "stream",
     "text": [
      "20/20 [==============================] - 0s 4ms/step - loss: 0.5004 - accuracy: 0.8183\n"
     ]
    }
   ],
   "source": [
    "# evaluate model on process data\n",
    "history = model.evaluate(proc_exp_data, exp_labels)"
   ]
  }
 ],
 "metadata": {
  "kernelspec": {
   "display_name": "Python 3",
   "language": "python",
   "name": "python3"
  },
  "language_info": {
   "codemirror_mode": {
    "name": "ipython",
    "version": 3
   },
   "file_extension": ".py",
   "mimetype": "text/x-python",
   "name": "python",
   "nbconvert_exporter": "python",
   "pygments_lexer": "ipython3",
   "version": "3.8.5"
  },
  "toc": {
   "base_numbering": 1,
   "nav_menu": {},
   "number_sections": true,
   "sideBar": true,
   "skip_h1_title": false,
   "title_cell": "Table of Contents",
   "title_sidebar": "Contents",
   "toc_cell": true,
   "toc_position": {},
   "toc_section_display": true,
   "toc_window_display": false
  }
 },
 "nbformat": 4,
 "nbformat_minor": 4
}
